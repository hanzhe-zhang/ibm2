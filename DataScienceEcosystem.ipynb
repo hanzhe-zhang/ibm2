{
 "cells": [
  {
   "cell_type": "markdown",
   "id": "e1558fea-9a22-4ba3-a32f-9e8ea17eeec9",
   "metadata": {},
   "source": [
    "# Data Science Tools and Ecosystem"
   ]
  },
  {
   "cell_type": "markdown",
   "id": "2bc648db-99dd-4db1-bfcb-fd4e07511f72",
   "metadata": {},
   "source": [
    "In this notebook, Data Science Tools and Ecosystem are summarized."
   ]
  },
  {
   "cell_type": "markdown",
   "id": "8ba29862-2b1c-4c53-8aee-263e9fc1b385",
   "metadata": {
    "tags": []
   },
   "source": [
    "**Objectives:**\n",
    "- List popular languages for Data Science\n",
    "- List commonly used libraries used by Data Scientists include:\n",
    "- List Data Science Tools"
   ]
  },
  {
   "cell_type": "markdown",
   "id": "c37a63cd-2638-43b7-a3cd-ed6a21caf1d9",
   "metadata": {},
   "source": [
    "Some of the popular languages that Data Scientists use are:"
   ]
  },
  {
   "cell_type": "markdown",
   "id": "6cc36100-1127-4fc1-9f88-f593e6bc5f82",
   "metadata": {
    "tags": []
   },
   "source": [
    "\n",
    "1. Python\n",
    "2. R\n",
    "3. SQL\n"
   ]
  },
  {
   "cell_type": "markdown",
   "id": "0d7b3cd4-3d58-4769-90cd-a84cc688799f",
   "metadata": {},
   "source": [
    "Some of the commonly used libraries used by Data Scientists include:"
   ]
  },
  {
   "cell_type": "markdown",
   "id": "8456744c-55ce-4f49-8bcb-5d45d5cf267c",
   "metadata": {
    "tags": []
   },
   "source": [
    "1. panda\n",
    "2. numpy \n",
    "3. scikit-learn"
   ]
  },
  {
   "cell_type": "markdown",
   "id": "98c7ab79-e3ff-4855-92ce-5270a68d4f57",
   "metadata": {},
   "source": [
    "|Data Science Tools|\n",
    "|:----------------:|\n",
    "|Jupyter Notebook|\n",
    "|Rstudio|\n",
    "|MySQL|"
   ]
  },
  {
   "cell_type": "markdown",
   "id": "3488f862-59eb-4324-bbee-0d782c3abd16",
   "metadata": {},
   "source": [
    "### Below are a few examples of evaluating arithmetic expressions in Python"
   ]
  },
  {
   "cell_type": "code",
   "execution_count": 5,
   "id": "12e81a60-b021-4c02-8e86-afe71ce2dc39",
   "metadata": {
    "tags": []
   },
   "outputs": [
    {
     "data": {
      "text/plain": [
       "17"
      ]
     },
     "execution_count": 5,
     "metadata": {},
     "output_type": "execute_result"
    }
   ],
   "source": [
    "(3*4)+5\n",
    "#This a simple arithmetic expression to mutiply then add integers.\n"
   ]
  },
  {
   "cell_type": "code",
   "execution_count": 6,
   "id": "68bc3811-2ccd-4d90-95a3-eb1f74b2d579",
   "metadata": {
    "tags": []
   },
   "outputs": [
    {
     "data": {
      "text/plain": [
       "3.3333333333333335"
      ]
     },
     "execution_count": 6,
     "metadata": {},
     "output_type": "execute_result"
    }
   ],
   "source": [
    "200 / 60\n",
    "#This will convert 200 minutes to hours by diving by 60"
   ]
  },
  {
   "cell_type": "markdown",
   "id": "6ac8a4cb-0432-4037-a20c-8c2387eb3f57",
   "metadata": {},
   "source": [
    "## Author\n",
    "Hanzhe Zhang"
   ]
  },
  {
   "cell_type": "code",
   "execution_count": null,
   "id": "0957e5b9-28ba-4ef8-bd0c-2852d06c8797",
   "metadata": {},
   "outputs": [],
   "source": []
  }
 ],
 "metadata": {
  "kernelspec": {
   "display_name": "Python",
   "language": "python",
   "name": "conda-env-python-py"
  },
  "language_info": {
   "codemirror_mode": {
    "name": "ipython",
    "version": 3
   },
   "file_extension": ".py",
   "mimetype": "text/x-python",
   "name": "python",
   "nbconvert_exporter": "python",
   "pygments_lexer": "ipython3",
   "version": "3.7.12"
  }
 },
 "nbformat": 4,
 "nbformat_minor": 5
}
